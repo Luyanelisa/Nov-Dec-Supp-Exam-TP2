{
 "cells": [
  {
   "cell_type": "markdown",
   "id": "949e7e99-675e-4cff-845d-be812efe63a9",
   "metadata": {},
   "source": [
    "### 22213741\n",
    "#### N.L Ngcobo"
   ]
  },
  {
   "cell_type": "code",
   "execution_count": 53,
   "id": "7eb3e094-f8ec-467d-aaee-f2d5da9951c9",
   "metadata": {},
   "outputs": [
    {
     "name": "stdout",
     "output_type": "stream",
     "text": [
      "Shape of the dataframe: (20, 12)\n",
      "\n",
      "Datatypes of the columns:\n",
      " Person_ID                            int64\n",
      "Age                                  int64\n",
      "Income_Level                        object\n",
      "Geographic_Location                 object\n",
      "Healthcare_Facility_Type            object\n",
      "Number_of_Facilities                 int64\n",
      "Distance_to_Nearest_Facility_km    float64\n",
      "Health_Coverage_Type                object\n",
      "Employment_Status                   object\n",
      "Healthcare_Utilization_Rate          int64\n",
      "Out_of_Pocket_Costs                  int64\n",
      "Chronic_Conditions                  object\n",
      "dtype: object\n",
      "\n",
      "Columns in the dataframe:\n",
      " Index(['Person_ID', 'Age', 'Income_Level', 'Geographic_Location',\n",
      "       'Healthcare_Facility_Type', 'Number_of_Facilities',\n",
      "       'Distance_to_Nearest_Facility_km', 'Health_Coverage_Type',\n",
      "       'Employment_Status', 'Healthcare_Utilization_Rate',\n",
      "       'Out_of_Pocket_Costs', 'Chronic_Conditions'],\n",
      "      dtype='object')\n",
      "\n",
      "First few rows of the dataframe:\n",
      "    Person_ID  Age Income_Level Geographic_Location Healthcare_Facility_Type  \\\n",
      "0          1   25          Low               Urban               Government   \n",
      "1          2   34       Middle               Rural                  Private   \n",
      "2          3   45         High               Urban               Government   \n",
      "3          4   30       Middle               Rural                  Private   \n",
      "4          5   52          Low               Urban               Government   \n",
      "\n",
      "   Number_of_Facilities  Distance_to_Nearest_Facility_km Health_Coverage_Type  \\\n",
      "0                     2                              1.2               Public   \n",
      "1                     5                              4.5              Private   \n",
      "2                     3                              2.3            Uninsured   \n",
      "3                     4                              3.1               Public   \n",
      "4                     2                              1.8               Public   \n",
      "\n",
      "  Employment_Status  Healthcare_Utilization_Rate  Out_of_Pocket_Costs  \\\n",
      "0          Employed                            2                   50   \n",
      "1        Unemployed                            6                  200   \n",
      "2          Employed                            1                    0   \n",
      "3     Self-Employed                            4                   75   \n",
      "4        Unemployed                            3                   30   \n",
      "\n",
      "  Chronic_Conditions  \n",
      "0                NaN  \n",
      "1       Hypertension  \n",
      "2           Diabetes  \n",
      "3                NaN  \n",
      "4             Asthma  \n"
     ]
    }
   ],
   "source": [
    "import pandas as pd\n",
    "import warnings\n",
    "warnings.filterwarnings(\"ignore\")\n",
    "\n",
    "\n",
    "# Load dataset\n",
    "df = pd.read_csv('enhanced_healthcare_access_data.csv')\n",
    "\n",
    "# Understanding the dataset\n",
    "print(\"Shape of the dataframe:\", df.shape)\n",
    "print(\"\\nDatatypes of the columns:\\n\", df.dtypes)\n",
    "print(\"\\nColumns in the dataframe:\\n\", df.columns)\n",
    "print(\"\\nFirst few rows of the dataframe:\\n\", df.head())"
   ]
  },
  {
   "cell_type": "markdown",
   "id": "c8a7c6e0-b7ac-4357-b85b-710b8f5a1fd3",
   "metadata": {},
   "source": [
    "### Dataset Relevancy\n",
    "\n",
    "#### This dataset is relevant for analysing disparities between governement health care services and \n",
    "#### private health care services as it includes demographic information (such as age, income level, \n",
    "#### and geographic location) and healthcare access indicators(like distance to the nearest facility \n",
    "#### and number of available facilities.This enables an analysis of potential inequalities, such as\n",
    "#### how income level, employment status, and location (urban vs. rural) impact access, affordability,\n",
    "#### and frequency of healthcare services.These elements together create a foundation for assessing how \n",
    "#### socio-economic and geographic disparities may affect healthcare access and outcomes, especially relevant\n",
    "#### in the context of the National Health Insurance initiative aiming to bridge these gaps.\n"
   ]
  },
  {
   "cell_type": "code",
   "execution_count": 9,
   "id": "e5538553-40b8-4789-a8de-a2ba57c5cb7c",
   "metadata": {},
   "outputs": [
    {
     "name": "stdout",
     "output_type": "stream",
     "text": [
      "\n",
      "Checking for missing values:\n",
      "Person_ID                          0\n",
      "Age                                0\n",
      "Income_Level                       0\n",
      "Geographic_Location                0\n",
      "Healthcare_Facility_Type           0\n",
      "Number_of_Facilities               0\n",
      "Distance_to_Nearest_Facility_km    0\n",
      "Health_Coverage_Type               0\n",
      "Employment_Status                  0\n",
      "Healthcare_Utilization_Rate        0\n",
      "Out_of_Pocket_Costs                0\n",
      "Chronic_Conditions                 0\n",
      "dtype: int64\n"
     ]
    }
   ],
   "source": [
    "# dataset cleaning\n",
    "print(\"\\nChecking for missing values:\")\n",
    "print(df.isnull().sum())\n",
    "\n",
    "#missing values handling\n",
    "# Impute missing values in the 'Chronic_Conditions' column with the category 'Unknown'\n",
    "df['Chronic_Conditions'].fillna('Unknown', inplace=True)\n"
   ]
  },
  {
   "cell_type": "code",
   "execution_count": 12,
   "id": "63d4add9-6efe-42cd-8c4f-5723234bffe2",
   "metadata": {},
   "outputs": [],
   "source": [
    "# Check for duplicates\n",
    "duplicate_rows = df.duplicated().sum()\n",
    "\n",
    "# Remove duplicate rows\n",
    "df.drop_duplicates(inplace=True)\n"
   ]
  },
  {
   "cell_type": "code",
   "execution_count": 13,
   "id": "f807b60b-9b44-4b66-b60d-62d873746953",
   "metadata": {},
   "outputs": [],
   "source": [
    "from sklearn.preprocessing import MinMaxScaler, StandardScaler\n",
    "\n",
    "# Initialize scaler\n",
    "scaler = StandardScaler()  \n",
    "\n",
    "# Apply scaling to numerical columns\n",
    "df[['Age', 'Distance_to_Nearest_Facility_km']] = scaler.fit_transform(\n",
    "    df[['Age', 'Distance_to_Nearest_Facility_km']])\n"
   ]
  },
  {
   "cell_type": "code",
   "execution_count": 16,
   "id": "2913a08f-002d-44a1-ae0f-4e92ce3cd564",
   "metadata": {},
   "outputs": [],
   "source": [
    "# Keep only the relevant columns\n",
    "relevant_columns = ['Age', 'Income_Level', 'Geographic_Location', 'Number_of_Facilities', 'Distance_to_Nearest_Facility_km']\n",
    "df = df[relevant_columns]\n"
   ]
  },
  {
   "cell_type": "code",
   "execution_count": 21,
   "id": "2155881f-d07d-4a62-a477-69d16ceceb0b",
   "metadata": {},
   "outputs": [
    {
     "name": "stdout",
     "output_type": "stream",
     "text": [
      "Index(['Age', 'Income_Level', 'Geographic_Location', 'Number_of_Facilities',\n",
      "       'Distance_to_Nearest_Facility_km'],\n",
      "      dtype='object')\n"
     ]
    }
   ],
   "source": [
    "\n",
    "\n",
    "print(df.columns)\n"
   ]
  },
  {
   "cell_type": "code",
   "execution_count": 35,
   "id": "3f557f60-bbbd-4da0-9c1a-5f42e363b67e",
   "metadata": {},
   "outputs": [],
   "source": [
    "# Create a binary target based on distance ( if the distance is more than 10 km, consider it \"no access\")\n",
    "df['Access_to_Healthcare'] = df['Distance_to_Nearest_Facility_km'].apply(lambda x: 1 if x <= 10 else 0)\n",
    "\n",
    "#  features and target\n",
    "X = df[['Age', 'Income_Level', 'Geographic_Location', 'Number_of_Facilities', 'Distance_to_Nearest_Facility_km']]\n",
    "y = df['Access_to_Healthcare']\n",
    "\n"
   ]
  },
  {
   "cell_type": "code",
   "execution_count": 36,
   "id": "dcf19e63-db64-4312-88d1-266b047117a9",
   "metadata": {},
   "outputs": [],
   "source": [
    "from sklearn.preprocessing import LabelEncoder\n",
    "\n",
    "label_encoder = LabelEncoder()\n",
    "\n",
    "X['Income_Level'] = label_encoder.fit_transform(X['Income_Level'])\n",
    "X['Geographic_Location'] = label_encoder.fit_transform(X['Geographic_Location'])"
   ]
  },
  {
   "cell_type": "code",
   "execution_count": 37,
   "id": "59e5c707-cc2e-4a5f-9a60-0720941a57f3",
   "metadata": {},
   "outputs": [
    {
     "name": "stdout",
     "output_type": "stream",
     "text": [
      "X_train shape: (16, 5)\n",
      "X_test shape: (4, 5)\n",
      "y_train shape: (16,)\n",
      "y_test shape: (4,)\n"
     ]
    }
   ],
   "source": [
    "from sklearn.model_selection import train_test_split\n",
    "\n",
    "# Splitting data into training and testing sets (80% training, 20% testing)\n",
    "X_train, X_test, y_train, y_test = train_test_split(X, y, test_size=0.2, random_state=42)\n",
    "\n",
    "# Check the shapes of the split data\n",
    "print(f\"X_train shape: {X_train.shape}\")\n",
    "print(f\"X_test shape: {X_test.shape}\")\n",
    "print(f\"y_train shape: {y_train.shape}\")\n",
    "print(f\"y_test shape: {y_test.shape}\")\n"
   ]
  },
  {
   "cell_type": "code",
   "execution_count": 38,
   "id": "318b0e63-9b6f-413d-a513-9d7c17127bba",
   "metadata": {},
   "outputs": [
    {
     "name": "stdout",
     "output_type": "stream",
     "text": [
      "Accuracy: 1.0\n",
      "\n",
      "Classification Report:\n",
      "              precision    recall  f1-score   support\n",
      "\n",
      "           1       1.00      1.00      1.00         4\n",
      "\n",
      "    accuracy                           1.00         4\n",
      "   macro avg       1.00      1.00      1.00         4\n",
      "weighted avg       1.00      1.00      1.00         4\n",
      "\n"
     ]
    }
   ],
   "source": [
    "from sklearn.ensemble import RandomForestClassifier\n",
    "from sklearn.metrics import accuracy_score, classification_report\n",
    "\n",
    "# Train a Random Forest Classifier\n",
    "model = RandomForestClassifier(random_state=42)\n",
    "model.fit(X_train, y_train)\n",
    "\n",
    "# Make predictions\n",
    "y_pred = model.predict(X_test)\n",
    "\n",
    "# Evaluate the model\n",
    "print(f\"Accuracy: {accuracy_score(y_test, y_pred)}\")\n",
    "print(\"\\nClassification Report:\")\n",
    "print(classification_report(y_test, y_pred))\n",
    "\n"
   ]
  },
  {
   "cell_type": "code",
   "execution_count": 54,
   "id": "39918ea9-952b-4b27-b052-e98800370a7b",
   "metadata": {},
   "outputs": [
    {
     "data": {
      "image/png": "[encoded data removed]",
      "text/plain": [
       "<Figure size 800x600 with 1 Axes>"
      ]
     },
     "metadata": {},
     "output_type": "display_data"
    }
   ],
   "source": [
    "import matplotlib.pyplot as plt\n",
    "import seaborn as sns\n",
    "\n",
    "# Hypothetical predicted access rates based on region\n",
    "regions = ['Urban', 'Rural', 'Suburban']\n",
    "predicted_access = [0.9, 0.6, 0.8]  # Hypothetical access scores post-NHI rollout\n",
    "\n",
    "# Plotting the access rate by region\n",
    "plt.figure(figsize=(8, 6))\n",
    "sns.barplot(x=regions, y=predicted_access)\n",
    "plt.title('Predicted Healthcare Access by Region Post-NHI')\n",
    "plt.xlabel('Region')\n",
    "plt.ylabel('Predicted Access Rate')\n",
    "plt.show()\n"
   ]
  },
  {
   "cell_type": "code",
   "execution_count": 39,
   "id": "8ec48637-f581-4e81-9a26-e59ddb65e439",
   "metadata": {},
   "outputs": [
    {
     "name": "stdout",
     "output_type": "stream",
     "text": [
      "Cross-validation scores: [1. 1. 1. 1. 1.]\n",
      "Mean cross-validation score: 1.0\n"
     ]
    }
   ],
   "source": [
    "from sklearn.model_selection import cross_val_score\n",
    "from sklearn.ensemble import RandomForestClassifier\n",
    "\n",
    "# Define the model\n",
    "model = RandomForestClassifier(random_state=42)\n",
    "\n",
    "# Cross-validate the model using 5-fold cross-validation\n",
    "cv_scores = cross_val_score(model, X, y, cv=5)  # X and y are your features and target variables\n",
    "\n",
    "# Display the cross-validation scores\n",
    "print(\"Cross-validation scores:\", cv_scores)\n",
    "print(\"Mean cross-validation score:\", cv_scores.mean())\n"
   ]
  },
  {
   "cell_type": "code",
   "execution_count": 41,
   "id": "3e876341-e920-4b0a-862b-db01eea1dc82",
   "metadata": {},
   "outputs": [
    {
     "name": "stdout",
     "output_type": "stream",
     "text": [
      "   Age Income_Level Geographic_Location  Number_of_Facilities  \\\n",
      "0   30         High               Urban                    10   \n",
      "1   50          Low               Rural                     2   \n",
      "2   40       Medium               Urban                     8   \n",
      "3   25         High            Suburban                     6   \n",
      "4   60          Low               Rural                     1   \n",
      "\n",
      "   Distance_to_Nearest_Facility_km  \n",
      "0                                5  \n",
      "1                               20  \n",
      "2                               10  \n",
      "3                               15  \n",
      "4                               30  \n"
     ]
    }
   ],
   "source": [
    "import pandas as pd\n",
    "\n",
    "# Creating hypothetical data simulating the future post-NHI rollout\n",
    "new_data = pd.DataFrame({\n",
    "    'Age': [30, 50, 40, 25, 60],  # Example ages\n",
    "    'Income_Level': ['High', 'Low', 'Medium', 'High', 'Low'],  # Example income levels\n",
    "    'Geographic_Location': ['Urban', 'Rural', 'Urban', 'Suburban', 'Rural'],  # Example locations\n",
    "    'Number_of_Facilities': [10, 2, 8, 6, 1],  # Number of facilities per region\n",
    "    'Distance_to_Nearest_Facility_km': [5, 20, 10, 15, 30]  # Distance to nearest healthcare facility\n",
    "})\n",
    "\n",
    "# Display the new data to see the structure\n",
    "print(new_data)\n"
   ]
  },
  {
   "cell_type": "code",
   "execution_count": 42,
   "id": "887c2cb8-809a-46f3-8dec-6ed41a527804",
   "metadata": {},
   "outputs": [
    {
     "name": "stdout",
     "output_type": "stream",
     "text": [
      "[[-0.85895569  1.33684785 -1.27872403 -0.81649658 -0.5        -0.5\n",
      "   1.22474487]\n",
      " [ 0.70278193 -0.98810493  0.46499055  1.22474487 -0.5        -0.5\n",
      "  -0.81649658]\n",
      " [-0.07808688  0.75560965 -0.69748583 -0.81649658  2.         -0.5\n",
      "   1.22474487]\n",
      " [-1.2493901   0.17437146 -0.11624764 -0.81649658 -0.5         2.\n",
      "  -0.81649658]\n",
      " [ 1.48365074 -1.27872403  1.62746694  1.22474487 -0.5        -0.5\n",
      "  -0.81649658]]\n"
     ]
    }
   ],
   "source": [
    "from sklearn.preprocessing import StandardScaler\n",
    "\n",
    "# One-hot encode categorical features\n",
    "new_data_encoded = pd.get_dummies(new_data, columns=['Income_Level', 'Geographic_Location'], drop_first=True)\n",
    "\n",
    "# If scaling was applied during training, apply the same scaler here\n",
    "scaler = StandardScaler()\n",
    "new_data_scaled = scaler.fit_transform(new_data_encoded)\n",
    "\n",
    "# Display the preprocessed data\n",
    "print(new_data_scaled)\n"
   ]
  },
  {
   "cell_type": "code",
   "execution_count": 47,
   "id": "0102cff0-825e-4006-8bfa-7ae1d8b58426",
   "metadata": {},
   "outputs": [],
   "source": [
    "# Create a binary target based on distance ( if the distance is more than 10 km, consider it \"no access\")\n",
    "df['Access_to_Healthcare'] = df['Distance_to_Nearest_Facility_km'].apply(lambda x: 1 if x <= 10 else 0)\n",
    "\n",
    "#  features and target\n",
    "X = df[['Age', 'Income_Level', 'Geographic_Location', 'Number_of_Facilities', 'Distance_to_Nearest_Facility_km']]\n",
    "y = df['Access_to_Healthcare']\n",
    "\n"
   ]
  },
  {
   "cell_type": "code",
   "execution_count": 48,
   "id": "29f5e02e-74b5-4a60-85e7-0859b6bcc43b",
   "metadata": {},
   "outputs": [],
   "source": [
    "from sklearn.preprocessing import LabelEncoder\n",
    "\n",
    "label_encoder = LabelEncoder()\n",
    "\n",
    "X['Income_Level'] = label_encoder.fit_transform(X['Income_Level'])\n",
    "X['Geographic_Location'] = label_encoder.fit_transform(X['Geographic_Location'])"
   ]
  },
  {
   "cell_type": "code",
   "execution_count": 49,
   "id": "f0dc8d76-fc92-414a-b583-6e2c0f8f7a55",
   "metadata": {},
   "outputs": [
    {
     "name": "stdout",
     "output_type": "stream",
     "text": [
      "X_train shape: (16, 5)\n",
      "X_test shape: (4, 5)\n",
      "y_train shape: (16,)\n",
      "y_test shape: (4,)\n"
     ]
    }
   ],
   "source": [
    "from sklearn.model_selection import train_test_split\n",
    "\n",
    "# Splitting data into training and testing sets (80% training, 20% testing)\n",
    "X_train, X_test, y_train, y_test = train_test_split(X, y, test_size=0.2, random_state=42)\n",
    "\n",
    "# Check the shapes of the split data\n",
    "print(f\"X_train shape: {X_train.shape}\")\n",
    "print(f\"X_test shape: {X_test.shape}\")\n",
    "print(f\"y_train shape: {y_train.shape}\")\n",
    "print(f\"y_test shape: {y_test.shape}\")\n"
   ]
  },
  {
   "cell_type": "code",
   "execution_count": 52,
   "id": "5250d414-96f4-4c01-ae7d-2430acb928db",
   "metadata": {},
   "outputs": [
    {
     "name": "stdout",
     "output_type": "stream",
     "text": [
      "Accuracy: 1.0\n",
      "\n",
      "Classification Report:\n",
      "              precision    recall  f1-score   support\n",
      "\n",
      "           1       1.00      1.00      1.00         4\n",
      "\n",
      "    accuracy                           1.00         4\n",
      "   macro avg       1.00      1.00      1.00         4\n",
      "weighted avg       1.00      1.00      1.00         4\n",
      "\n"
     ]
    },
    {
     "ename": "ValueError",
     "evalue": "The feature names should match those that were passed during fit.\nFeature names unseen at fit time:\n- Geographic_Location_Urban\n- Income_Level_Medium\nFeature names seen at fit time, yet now missing:\n- Geographic_Location\n- Income_Level\n",
     "output_type": "error",
     "traceback": [
      "\u001b[1;31m---------------------------------------------------------------------------\u001b[0m",
      "\u001b[1;31mValueError\u001b[0m                                Traceback (most recent call last)",
      "Cell \u001b[1;32mIn[52], line 31\u001b[0m\n\u001b[0;32m     29\u001b[0m \u001b[38;5;66;03m# Preprocess the new data (same encoding and scaling steps as for training data)\u001b[39;00m\n\u001b[0;32m     30\u001b[0m new_data_encoded \u001b[38;5;241m=\u001b[39m pd\u001b[38;5;241m.\u001b[39mget_dummies(new_data, columns\u001b[38;5;241m=\u001b[39m[\u001b[38;5;124m'\u001b[39m\u001b[38;5;124mIncome_Level\u001b[39m\u001b[38;5;124m'\u001b[39m, \u001b[38;5;124m'\u001b[39m\u001b[38;5;124mGeographic_Location\u001b[39m\u001b[38;5;124m'\u001b[39m], drop_first\u001b[38;5;241m=\u001b[39m\u001b[38;5;28;01mTrue\u001b[39;00m)\n\u001b[1;32m---> 31\u001b[0m new_data_scaled \u001b[38;5;241m=\u001b[39m scaler\u001b[38;5;241m.\u001b[39mtransform(new_data_encoded)\n\u001b[0;32m     33\u001b[0m \u001b[38;5;66;03m# Make predictions for the new data\u001b[39;00m\n\u001b[0;32m     34\u001b[0m new_predictions \u001b[38;5;241m=\u001b[39m model\u001b[38;5;241m.\u001b[39mpredict(new_data_scaled)\n",
      "File \u001b[1;32m~\\anaconda3\\Lib\\site-packages\\sklearn\\utils\\_set_output.py:140\u001b[0m, in \u001b[0;36m_wrap_method_output.<locals>.wrapped\u001b[1;34m(self, X, *args, **kwargs)\u001b[0m\n\u001b[0;32m    138\u001b[0m \u001b[38;5;129m@wraps\u001b[39m(f)\n\u001b[0;32m    139\u001b[0m \u001b[38;5;28;01mdef\u001b[39;00m \u001b[38;5;21mwrapped\u001b[39m(\u001b[38;5;28mself\u001b[39m, X, \u001b[38;5;241m*\u001b[39margs, \u001b[38;5;241m*\u001b[39m\u001b[38;5;241m*\u001b[39mkwargs):\n\u001b[1;32m--> 140\u001b[0m     data_to_wrap \u001b[38;5;241m=\u001b[39m f(\u001b[38;5;28mself\u001b[39m, X, \u001b[38;5;241m*\u001b[39margs, \u001b[38;5;241m*\u001b[39m\u001b[38;5;241m*\u001b[39mkwargs)\n\u001b[0;32m    141\u001b[0m     \u001b[38;5;28;01mif\u001b[39;00m \u001b[38;5;28misinstance\u001b[39m(data_to_wrap, \u001b[38;5;28mtuple\u001b[39m):\n\u001b[0;32m    142\u001b[0m         \u001b[38;5;66;03m# only wrap the first output for cross decomposition\u001b[39;00m\n\u001b[0;32m    143\u001b[0m         \u001b[38;5;28;01mreturn\u001b[39;00m (\n\u001b[0;32m    144\u001b[0m             _wrap_data_with_container(method, data_to_wrap[\u001b[38;5;241m0\u001b[39m], X, \u001b[38;5;28mself\u001b[39m),\n\u001b[0;32m    145\u001b[0m             \u001b[38;5;241m*\u001b[39mdata_to_wrap[\u001b[38;5;241m1\u001b[39m:],\n\u001b[0;32m    146\u001b[0m         )\n",
      "File \u001b[1;32m~\\anaconda3\\Lib\\site-packages\\sklearn\\preprocessing\\_data.py:992\u001b[0m, in \u001b[0;36mStandardScaler.transform\u001b[1;34m(self, X, copy)\u001b[0m\n\u001b[0;32m    989\u001b[0m check_is_fitted(\u001b[38;5;28mself\u001b[39m)\n\u001b[0;32m    991\u001b[0m copy \u001b[38;5;241m=\u001b[39m copy \u001b[38;5;28;01mif\u001b[39;00m copy \u001b[38;5;129;01mis\u001b[39;00m \u001b[38;5;129;01mnot\u001b[39;00m \u001b[38;5;28;01mNone\u001b[39;00m \u001b[38;5;28;01melse\u001b[39;00m \u001b[38;5;28mself\u001b[39m\u001b[38;5;241m.\u001b[39mcopy\n\u001b[1;32m--> 992\u001b[0m X \u001b[38;5;241m=\u001b[39m \u001b[38;5;28mself\u001b[39m\u001b[38;5;241m.\u001b[39m_validate_data(\n\u001b[0;32m    993\u001b[0m     X,\n\u001b[0;32m    994\u001b[0m     reset\u001b[38;5;241m=\u001b[39m\u001b[38;5;28;01mFalse\u001b[39;00m,\n\u001b[0;32m    995\u001b[0m     accept_sparse\u001b[38;5;241m=\u001b[39m\u001b[38;5;124m\"\u001b[39m\u001b[38;5;124mcsr\u001b[39m\u001b[38;5;124m\"\u001b[39m,\n\u001b[0;32m    996\u001b[0m     copy\u001b[38;5;241m=\u001b[39mcopy,\n\u001b[0;32m    997\u001b[0m     dtype\u001b[38;5;241m=\u001b[39mFLOAT_DTYPES,\n\u001b[0;32m    998\u001b[0m     force_all_finite\u001b[38;5;241m=\u001b[39m\u001b[38;5;124m\"\u001b[39m\u001b[38;5;124mallow-nan\u001b[39m\u001b[38;5;124m\"\u001b[39m,\n\u001b[0;32m    999\u001b[0m )\n\u001b[0;32m   1001\u001b[0m \u001b[38;5;28;01mif\u001b[39;00m sparse\u001b[38;5;241m.\u001b[39missparse(X):\n\u001b[0;32m   1002\u001b[0m     \u001b[38;5;28;01mif\u001b[39;00m \u001b[38;5;28mself\u001b[39m\u001b[38;5;241m.\u001b[39mwith_mean:\n",
      "File \u001b[1;32m~\\anaconda3\\Lib\\site-packages\\sklearn\\base.py:548\u001b[0m, in \u001b[0;36mBaseEstimator._validate_data\u001b[1;34m(self, X, y, reset, validate_separately, **check_params)\u001b[0m\n\u001b[0;32m    483\u001b[0m \u001b[38;5;28;01mdef\u001b[39;00m \u001b[38;5;21m_validate_data\u001b[39m(\n\u001b[0;32m    484\u001b[0m     \u001b[38;5;28mself\u001b[39m,\n\u001b[0;32m    485\u001b[0m     X\u001b[38;5;241m=\u001b[39m\u001b[38;5;124m\"\u001b[39m\u001b[38;5;124mno_validation\u001b[39m\u001b[38;5;124m\"\u001b[39m,\n\u001b[1;32m   (...)\u001b[0m\n\u001b[0;32m    489\u001b[0m     \u001b[38;5;241m*\u001b[39m\u001b[38;5;241m*\u001b[39mcheck_params,\n\u001b[0;32m    490\u001b[0m ):\n\u001b[0;32m    491\u001b[0m \u001b[38;5;250m    \u001b[39m\u001b[38;5;124;03m\"\"\"Validate input data and set or check the `n_features_in_` attribute.\u001b[39;00m\n\u001b[0;32m    492\u001b[0m \n\u001b[0;32m    493\u001b[0m \u001b[38;5;124;03m    Parameters\u001b[39;00m\n\u001b[1;32m   (...)\u001b[0m\n\u001b[0;32m    546\u001b[0m \u001b[38;5;124;03m        validated.\u001b[39;00m\n\u001b[0;32m    547\u001b[0m \u001b[38;5;124;03m    \"\"\"\u001b[39;00m\n\u001b[1;32m--> 548\u001b[0m     \u001b[38;5;28mself\u001b[39m\u001b[38;5;241m.\u001b[39m_check_feature_names(X, reset\u001b[38;5;241m=\u001b[39mreset)\n\u001b[0;32m    550\u001b[0m     \u001b[38;5;28;01mif\u001b[39;00m y \u001b[38;5;129;01mis\u001b[39;00m \u001b[38;5;28;01mNone\u001b[39;00m \u001b[38;5;129;01mand\u001b[39;00m \u001b[38;5;28mself\u001b[39m\u001b[38;5;241m.\u001b[39m_get_tags()[\u001b[38;5;124m\"\u001b[39m\u001b[38;5;124mrequires_y\u001b[39m\u001b[38;5;124m\"\u001b[39m]:\n\u001b[0;32m    551\u001b[0m         \u001b[38;5;28;01mraise\u001b[39;00m \u001b[38;5;167;01mValueError\u001b[39;00m(\n\u001b[0;32m    552\u001b[0m             \u001b[38;5;124mf\u001b[39m\u001b[38;5;124m\"\u001b[39m\u001b[38;5;124mThis \u001b[39m\u001b[38;5;132;01m{\u001b[39;00m\u001b[38;5;28mself\u001b[39m\u001b[38;5;241m.\u001b[39m\u001b[38;5;18m__class__\u001b[39m\u001b[38;5;241m.\u001b[39m\u001b[38;5;18m__name__\u001b[39m\u001b[38;5;132;01m}\u001b[39;00m\u001b[38;5;124m estimator \u001b[39m\u001b[38;5;124m\"\u001b[39m\n\u001b[0;32m    553\u001b[0m             \u001b[38;5;124m\"\u001b[39m\u001b[38;5;124mrequires y to be passed, but the target y is None.\u001b[39m\u001b[38;5;124m\"\u001b[39m\n\u001b[0;32m    554\u001b[0m         )\n",
      "File \u001b[1;32m~\\anaconda3\\Lib\\site-packages\\sklearn\\base.py:481\u001b[0m, in \u001b[0;36mBaseEstimator._check_feature_names\u001b[1;34m(self, X, reset)\u001b[0m\n\u001b[0;32m    476\u001b[0m \u001b[38;5;28;01mif\u001b[39;00m \u001b[38;5;129;01mnot\u001b[39;00m missing_names \u001b[38;5;129;01mand\u001b[39;00m \u001b[38;5;129;01mnot\u001b[39;00m unexpected_names:\n\u001b[0;32m    477\u001b[0m     message \u001b[38;5;241m+\u001b[39m\u001b[38;5;241m=\u001b[39m (\n\u001b[0;32m    478\u001b[0m         \u001b[38;5;124m\"\u001b[39m\u001b[38;5;124mFeature names must be in the same order as they were in fit.\u001b[39m\u001b[38;5;130;01m\\n\u001b[39;00m\u001b[38;5;124m\"\u001b[39m\n\u001b[0;32m    479\u001b[0m     )\n\u001b[1;32m--> 481\u001b[0m \u001b[38;5;28;01mraise\u001b[39;00m \u001b[38;5;167;01mValueError\u001b[39;00m(message)\n",
      "\u001b[1;31mValueError\u001b[0m: The feature names should match those that were passed during fit.\nFeature names unseen at fit time:\n- Geographic_Location_Urban\n- Income_Level_Medium\nFeature names seen at fit time, yet now missing:\n- Geographic_Location\n- Income_Level\n"
     ]
    }
   ],
   "source": [
    "scaler = StandardScaler()\n",
    "X_train_scaled = scaler.fit_transform(X_train)\n",
    "X_test_scaled = scaler.transform(X_test)\n",
    "\n",
    "# Initialize the RandomForestClassifier and train the model\n",
    "model = RandomForestClassifier(random_state=42)\n",
    "model.fit(X_train_scaled, y_train)  # Fitting the model on the training data\n",
    "\n",
    "# After fitting, make predictions on the test data\n",
    "y_pred = model.predict(X_test_scaled)\n",
    "\n",
    "# Evaluate the model's performance\n",
    "accuracy = accuracy_score(y_test, y_pred)\n",
    "print(f\"Accuracy: {accuracy}\")\n",
    "\n",
    "# Display the classification report\n",
    "print(\"\\nClassification Report:\")\n",
    "print(classification_report(y_test, y_pred))\n",
    "\n",
    "# Now, you can predict for new data\n",
    "new_data = pd.DataFrame({\n",
    "    'Age': [30, 45], \n",
    "    'Income_Level': ['Medium', 'High'],\n",
    "    'Geographic_Location': ['Urban', 'Rural'],\n",
    "    'Number_of_Facilities': [3, 1],\n",
    "    'Distance_to_Nearest_Facility_km': [2.0, 10.0]\n",
    "})\n",
    "\n",
    "# Preprocess the new data (same encoding and scaling steps as for training data)\n",
    "new_data_encoded = pd.get_dummies(new_data, columns=['Income_Level', 'Geographic_Location'], drop_first=True)\n",
    "new_data_scaled = scaler.transform(new_data_encoded)\n",
    "\n",
    "# Make predictions for the new data\n",
    "new_predictions = model.predict(new_data_scaled)\n",
    "print(\"\\nPredictions for new data (0 = No Access, 1 = Access):\")\n",
    "print(new_predictions)"
   ]
  },
  {
   "cell_type": "code",
   "execution_count": 58,
   "id": "478a7406-49fc-4e75-b74b-d9ca39986704",
   "metadata": {},
   "outputs": [
    {
     "data": {
      "image/png": "[encoded data removed]",
      "text/plain": [
       "<Figure size 800x600 with 1 Axes>"
      ]
     },
     "metadata": {},
     "output_type": "display_data"
    }
   ],
   "source": [
    "import matplotlib.pyplot as plt\n",
    "import seaborn as sns\n",
    "\n",
    "# Example: Predicted access based on model (replace with actual predictions)\n",
    "new_predictions = [1, 0, 1, 1, 0]  # Example predicted access (0 or 1)\n",
    "\n",
    "# Hypothetical regions\n",
    "regions = ['Urban', 'Rural', 'Suburban', 'Urban', 'Rural']  # Example regions\n",
    "\n",
    "# Visualizing the predicted access\n",
    "plt.figure(figsize=(8, 6))\n",
    "sns.barplot(x=regions, y=new_predictions)\n",
    "plt.title('Predicted Healthcare Access by Region Post-NHI')\n",
    "plt.xlabel('Region')\n",
    "plt.ylabel('Predicted Access (1 = Access, 0 = No Access)')\n",
    "plt.show()\n"
   ]
  },
  {
   "cell_type": "code",
   "execution_count": 62,
   "id": "ad1d78c2-4bb6-4a48-9719-cec4a8da2f09",
   "metadata": {},
   "outputs": [
    {
     "name": "stdout",
     "output_type": "stream",
     "text": [
      "Random Forest Classifier Accuracy: 0.5\n",
      "Random Forest Classification Report:\n",
      "              precision    recall  f1-score   support\n",
      "\n",
      "     Private       0.00      0.00      0.00         2\n",
      "      Public       0.50      1.00      0.67         2\n",
      "\n",
      "    accuracy                           0.50         4\n",
      "   macro avg       0.25      0.50      0.33         4\n",
      "weighted avg       0.25      0.50      0.33         4\n",
      "\n"
     ]
    }
   ],
   "source": [
    "import pandas as pd\n",
    "from sklearn.model_selection import train_test_split\n",
    "from sklearn.ensemble import RandomForestClassifier\n",
    "from sklearn.metrics import accuracy_score, classification_report\n",
    "\n",
    "# Assuming `df` is your DataFrame and the relevant features are already identified\n",
    "X = df[['Age', 'Income_Level', 'Geographic_Location', 'Number_of_Facilities', 'Distance_to_Nearest_Facility_km']]\n",
    "y = df['Health_Coverage_Type']\n",
    "\n",
    "# Preprocess categorical variables by applying one-hot encoding\n",
    "X_encoded = pd.get_dummies(X, columns=['Income_Level', 'Geographic_Location'], drop_first=True)\n",
    "\n",
    "# Split the data into training and testing sets (80% training, 20% testing)\n",
    "X_train, X_test, y_train, y_test = train_test_split(X_encoded, y, test_size=0.2, random_state=42)\n",
    "\n",
    "# Initialize and train the Random Forest model\n",
    "rf_model = RandomForestClassifier(random_state=42)\n",
    "rf_model.fit(X_train, y_train)\n",
    "\n",
    "# Predict using the trained Random Forest model\n",
    "rf_predictions = rf_model.predict(X_test)\n",
    "\n",
    "# Evaluate the Random Forest Classifier\n",
    "print(\"Random Forest Classifier Accuracy:\", accuracy_score(y_test, rf_predictions))\n",
    "print(\"Random Forest Classification Report:\")\n",
    "print(classification_report(y_test, rf_predictions))\n"
   ]
  },
  {
   "cell_type": "markdown",
   "id": "001b8f5a-40da-4cd5-80a4-29bf92ed6bcb",
   "metadata": {},
   "source": [
    "#### Model Evaluation\n",
    "##### why use RandomForestClassifier??\n",
    "\n",
    "##### It can handle both categorical and continuous data, is resistant to overfitting, provides feature importance insights, and delivers high accuracy with minimal parameter tuning. The model's robustness and flexibility make it an excellent choice for understanding complex relationships in this dataset dataset while avoiding pitfalls such as overfitting, especially when working with limited or noisy data.\n",
    "\n",
    "##### Conclusion:\n",
    "##### Random Forest Classifier tends to perform better, especially if the relationships between features are complex.\n",
    "##### Logistic Regression may not capture the complexity as well but provides a good baseline model.\n",
    "##### Based on the comparison, you can choose the model that best suits your needs in terms of accuracy, interpretability, and model complexity.\n",
    "\n",
    "\n",
    "\n",
    "\n",
    "\n",
    "\n"
   ]
  },
  {
   "cell_type": "code",
   "execution_count": null,
   "id": "ef83339e-fcdc-49c6-8a24-0290c5179537",
   "metadata": {},
   "outputs": [],
   "source": []
  }
 ],
 "metadata": {
  "kernelspec": {
   "display_name": "Python 3 (ipykernel)",
   "language": "python",
   "name": "python3"
  },
  "language_info": {
   "codemirror_mode": {
    "name": "ipython",
    "version": 3
   },
   "file_extension": ".py",
   "mimetype": "text/x-python",
   "name": "python",
   "nbconvert_exporter": "python",
   "pygments_lexer": "ipython3",
   "version": "3.11.7"
  },
  "widgets": {
   "application/vnd.jupyter.widget-state+json": {
    "state": {},
    "version_major": 2,
    "version_minor": 0
   }
  }
 },
 "nbformat": 4,
 "nbformat_minor": 5
}
